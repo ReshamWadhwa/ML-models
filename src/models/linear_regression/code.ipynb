{
  "nbformat": 4,
  "nbformat_minor": 0,
  "metadata": {
    "colab": {
      "name": "Copy of Untitled0.ipynb",
      "provenance": [],
      "authorship_tag": "ABX9TyMPTPGzKHm0b1m28tNptdIh",
      "include_colab_link": true
    },
    "kernelspec": {
      "name": "python3",
      "display_name": "Python 3"
    },
    "language_info": {
      "name": "python"
    }
  },
  "cells": [
    {
      "cell_type": "markdown",
      "metadata": {
        "id": "view-in-github",
        "colab_type": "text"
      },
      "source": [
        "<a href=\"https://colab.research.google.com/github/ReshamWadhwa/ML-models/blob/main/src/models/linear_regression/code.ipynb\" target=\"_parent\"><img src=\"https://colab.research.google.com/assets/colab-badge.svg\" alt=\"Open In Colab\"/></a>"
      ]
    },
    {
      "cell_type": "code",
      "metadata": {
        "id": "F46iBY6dPOzv"
      },
      "source": [
        "import pandas as pd\n",
        "from sklearn.linear_model import LinearRegression\n",
        "from sklearn.model_selection import train_test_split\n"
      ],
      "execution_count": 4,
      "outputs": []
    },
    {
      "cell_type": "code",
      "metadata": {
        "id": "fX1_zEpoQBKs"
      },
      "source": [
        "# data set - https://www.kaggle.com/andonians/random-linear-regression?select=train.csv\n",
        "\n"
      ],
      "execution_count": 5,
      "outputs": []
    },
    {
      "cell_type": "code",
      "metadata": {
        "id": "KcewxFVHQEnP"
      },
      "source": [
        "data_train = pd.read_csv(\"train.csv\")\n",
        "data_test = pd.read_csv(\"test.csv\")"
      ],
      "execution_count": 6,
      "outputs": []
    },
    {
      "cell_type": "code",
      "metadata": {
        "id": "KN7ABcTrQFPl",
        "outputId": "2a4495f3-702a-46cc-e67f-b478601cf69e",
        "colab": {
          "base_uri": "https://localhost:8080/",
          "height": 204
        }
      },
      "source": [
        "data_train.head()"
      ],
      "execution_count": 7,
      "outputs": [
        {
          "output_type": "execute_result",
          "data": {
            "text/html": [
              "<div>\n",
              "<style scoped>\n",
              "    .dataframe tbody tr th:only-of-type {\n",
              "        vertical-align: middle;\n",
              "    }\n",
              "\n",
              "    .dataframe tbody tr th {\n",
              "        vertical-align: top;\n",
              "    }\n",
              "\n",
              "    .dataframe thead th {\n",
              "        text-align: right;\n",
              "    }\n",
              "</style>\n",
              "<table border=\"1\" class=\"dataframe\">\n",
              "  <thead>\n",
              "    <tr style=\"text-align: right;\">\n",
              "      <th></th>\n",
              "      <th>x</th>\n",
              "      <th>y</th>\n",
              "    </tr>\n",
              "  </thead>\n",
              "  <tbody>\n",
              "    <tr>\n",
              "      <th>0</th>\n",
              "      <td>24.0</td>\n",
              "      <td>21.549452</td>\n",
              "    </tr>\n",
              "    <tr>\n",
              "      <th>1</th>\n",
              "      <td>50.0</td>\n",
              "      <td>47.464463</td>\n",
              "    </tr>\n",
              "    <tr>\n",
              "      <th>2</th>\n",
              "      <td>15.0</td>\n",
              "      <td>17.218656</td>\n",
              "    </tr>\n",
              "    <tr>\n",
              "      <th>3</th>\n",
              "      <td>38.0</td>\n",
              "      <td>36.586398</td>\n",
              "    </tr>\n",
              "    <tr>\n",
              "      <th>4</th>\n",
              "      <td>87.0</td>\n",
              "      <td>87.288984</td>\n",
              "    </tr>\n",
              "  </tbody>\n",
              "</table>\n",
              "</div>"
            ],
            "text/plain": [
              "      x          y\n",
              "0  24.0  21.549452\n",
              "1  50.0  47.464463\n",
              "2  15.0  17.218656\n",
              "3  38.0  36.586398\n",
              "4  87.0  87.288984"
            ]
          },
          "metadata": {
            "tags": []
          },
          "execution_count": 7
        }
      ]
    },
    {
      "cell_type": "code",
      "metadata": {
        "id": "EszjNsmuM864",
        "outputId": "984d5b9a-347d-4563-d637-11e330dabf71",
        "colab": {
          "base_uri": "https://localhost:8080/"
        }
      },
      "source": [
        "data_train.shape"
      ],
      "execution_count": 8,
      "outputs": [
        {
          "output_type": "execute_result",
          "data": {
            "text/plain": [
              "(700, 2)"
            ]
          },
          "metadata": {
            "tags": []
          },
          "execution_count": 8
        }
      ]
    },
    {
      "cell_type": "code",
      "metadata": {
        "id": "q9i792-5M_M-",
        "outputId": "93b11b0f-6b26-4af5-e187-82f8baf30317",
        "colab": {
          "base_uri": "https://localhost:8080/"
        }
      },
      "source": [
        "data_test.shape"
      ],
      "execution_count": 9,
      "outputs": [
        {
          "output_type": "execute_result",
          "data": {
            "text/plain": [
              "(300, 2)"
            ]
          },
          "metadata": {
            "tags": []
          },
          "execution_count": 9
        }
      ]
    },
    {
      "cell_type": "code",
      "metadata": {
        "id": "rUvB7HlDNA_R",
        "outputId": "38667071-1988-4394-ee22-dd148d9ac3a5",
        "colab": {
          "base_uri": "https://localhost:8080/",
          "height": 297
        }
      },
      "source": [
        "data_train.describe()"
      ],
      "execution_count": 10,
      "outputs": [
        {
          "output_type": "execute_result",
          "data": {
            "text/html": [
              "<div>\n",
              "<style scoped>\n",
              "    .dataframe tbody tr th:only-of-type {\n",
              "        vertical-align: middle;\n",
              "    }\n",
              "\n",
              "    .dataframe tbody tr th {\n",
              "        vertical-align: top;\n",
              "    }\n",
              "\n",
              "    .dataframe thead th {\n",
              "        text-align: right;\n",
              "    }\n",
              "</style>\n",
              "<table border=\"1\" class=\"dataframe\">\n",
              "  <thead>\n",
              "    <tr style=\"text-align: right;\">\n",
              "      <th></th>\n",
              "      <th>x</th>\n",
              "      <th>y</th>\n",
              "    </tr>\n",
              "  </thead>\n",
              "  <tbody>\n",
              "    <tr>\n",
              "      <th>count</th>\n",
              "      <td>700.000000</td>\n",
              "      <td>699.000000</td>\n",
              "    </tr>\n",
              "    <tr>\n",
              "      <th>mean</th>\n",
              "      <td>54.985939</td>\n",
              "      <td>49.939869</td>\n",
              "    </tr>\n",
              "    <tr>\n",
              "      <th>std</th>\n",
              "      <td>134.681703</td>\n",
              "      <td>29.109217</td>\n",
              "    </tr>\n",
              "    <tr>\n",
              "      <th>min</th>\n",
              "      <td>0.000000</td>\n",
              "      <td>-3.839981</td>\n",
              "    </tr>\n",
              "    <tr>\n",
              "      <th>25%</th>\n",
              "      <td>25.000000</td>\n",
              "      <td>24.929968</td>\n",
              "    </tr>\n",
              "    <tr>\n",
              "      <th>50%</th>\n",
              "      <td>49.000000</td>\n",
              "      <td>48.973020</td>\n",
              "    </tr>\n",
              "    <tr>\n",
              "      <th>75%</th>\n",
              "      <td>75.000000</td>\n",
              "      <td>74.929911</td>\n",
              "    </tr>\n",
              "    <tr>\n",
              "      <th>max</th>\n",
              "      <td>3530.157369</td>\n",
              "      <td>108.871618</td>\n",
              "    </tr>\n",
              "  </tbody>\n",
              "</table>\n",
              "</div>"
            ],
            "text/plain": [
              "                 x           y\n",
              "count   700.000000  699.000000\n",
              "mean     54.985939   49.939869\n",
              "std     134.681703   29.109217\n",
              "min       0.000000   -3.839981\n",
              "25%      25.000000   24.929968\n",
              "50%      49.000000   48.973020\n",
              "75%      75.000000   74.929911\n",
              "max    3530.157369  108.871618"
            ]
          },
          "metadata": {
            "tags": []
          },
          "execution_count": 10
        }
      ]
    },
    {
      "cell_type": "code",
      "metadata": {
        "id": "yD2P4idlNDgs",
        "outputId": "30292b41-03b4-482c-ce8c-c7b74b30c9e4",
        "colab": {
          "base_uri": "https://localhost:8080/"
        }
      },
      "source": [
        "data_train.loc[data_train.y.isna()]\n",
        "\n",
        "# Removing this outlier\n",
        "\n",
        "data_train = data_train.loc[~data_train.y.isna()]\n",
        "data_train.shape"
      ],
      "execution_count": 16,
      "outputs": [
        {
          "output_type": "execute_result",
          "data": {
            "text/plain": [
              "(699, 2)"
            ]
          },
          "metadata": {
            "tags": []
          },
          "execution_count": 16
        }
      ]
    },
    {
      "cell_type": "code",
      "metadata": {
        "id": "WfEZoBNiNJhL",
        "outputId": "e6893b76-420e-45ad-d73d-3ff55cbd3e48",
        "colab": {
          "base_uri": "https://localhost:8080/",
          "height": 297
        }
      },
      "source": [
        "data_test.describe()"
      ],
      "execution_count": 17,
      "outputs": [
        {
          "output_type": "execute_result",
          "data": {
            "text/html": [
              "<div>\n",
              "<style scoped>\n",
              "    .dataframe tbody tr th:only-of-type {\n",
              "        vertical-align: middle;\n",
              "    }\n",
              "\n",
              "    .dataframe tbody tr th {\n",
              "        vertical-align: top;\n",
              "    }\n",
              "\n",
              "    .dataframe thead th {\n",
              "        text-align: right;\n",
              "    }\n",
              "</style>\n",
              "<table border=\"1\" class=\"dataframe\">\n",
              "  <thead>\n",
              "    <tr style=\"text-align: right;\">\n",
              "      <th></th>\n",
              "      <th>x</th>\n",
              "      <th>y</th>\n",
              "    </tr>\n",
              "  </thead>\n",
              "  <tbody>\n",
              "    <tr>\n",
              "      <th>count</th>\n",
              "      <td>300.000000</td>\n",
              "      <td>300.000000</td>\n",
              "    </tr>\n",
              "    <tr>\n",
              "      <th>mean</th>\n",
              "      <td>50.936667</td>\n",
              "      <td>51.205051</td>\n",
              "    </tr>\n",
              "    <tr>\n",
              "      <th>std</th>\n",
              "      <td>28.504286</td>\n",
              "      <td>29.071481</td>\n",
              "    </tr>\n",
              "    <tr>\n",
              "      <th>min</th>\n",
              "      <td>0.000000</td>\n",
              "      <td>-3.467884</td>\n",
              "    </tr>\n",
              "    <tr>\n",
              "      <th>25%</th>\n",
              "      <td>27.000000</td>\n",
              "      <td>25.676502</td>\n",
              "    </tr>\n",
              "    <tr>\n",
              "      <th>50%</th>\n",
              "      <td>53.000000</td>\n",
              "      <td>52.170557</td>\n",
              "    </tr>\n",
              "    <tr>\n",
              "      <th>75%</th>\n",
              "      <td>73.000000</td>\n",
              "      <td>74.303007</td>\n",
              "    </tr>\n",
              "    <tr>\n",
              "      <th>max</th>\n",
              "      <td>100.000000</td>\n",
              "      <td>105.591837</td>\n",
              "    </tr>\n",
              "  </tbody>\n",
              "</table>\n",
              "</div>"
            ],
            "text/plain": [
              "                x           y\n",
              "count  300.000000  300.000000\n",
              "mean    50.936667   51.205051\n",
              "std     28.504286   29.071481\n",
              "min      0.000000   -3.467884\n",
              "25%     27.000000   25.676502\n",
              "50%     53.000000   52.170557\n",
              "75%     73.000000   74.303007\n",
              "max    100.000000  105.591837"
            ]
          },
          "metadata": {
            "tags": []
          },
          "execution_count": 17
        }
      ]
    },
    {
      "cell_type": "code",
      "metadata": {
        "id": "Kl-7XWxiN9XS",
        "outputId": "96a0fb4f-75e5-41fc-ca6f-147161304548",
        "colab": {
          "base_uri": "https://localhost:8080/"
        }
      },
      "source": [
        "import math\n",
        "import numpy as np\n",
        "lr1 = LinearRegression()\n",
        "lr1.fit(data_train[['x']], data_train['y'])\n",
        "\n",
        "y_pred1 = lr1.predict(data_test[['x']])\n",
        "y_actual = data_test['y']\n",
        "\n",
        "mae1 = mean_absolute_error(y_actual, y_pred1)\n",
        "rmse1 = mean_squared_error(y_actual, y_pred1)\n",
        "print(lr1.coef_, lr1.intercept_)\n",
        "print(mae1)\n",
        "print(rmse1)\n",
        "print(pd.DataFrame(y_pred1).describe())\n",
        "print(lr1.rank_)"
      ],
      "execution_count": 99,
      "outputs": [
        {
          "output_type": "stream",
          "text": [
            "[1.00065638] -0.10726546430097272\n",
            "2.415771850041258\n",
            "9.432922192039305\n",
            "                0\n",
            "count  300.000000\n",
            "mean    50.862835\n",
            "std     28.522995\n",
            "min     -0.107265\n",
            "25%     26.910457\n",
            "50%     52.927523\n",
            "75%     72.940650\n",
            "max     99.958373\n",
            "1\n"
          ],
          "name": "stdout"
        }
      ]
    },
    {
      "cell_type": "code",
      "metadata": {
        "id": "JWF8_lfxNQeg"
      },
      "source": [
        "class LinearRegression2:\n",
        "\n",
        "  X = None\n",
        "  Y = None\n",
        "  b = None\n",
        "  learning_rate = None\n",
        "  iterations = None\n",
        "\n",
        "  def __init__(self, learning_rate=0.01, iterations=10):\n",
        "    self.learning_rate = learning_rate\n",
        "    self.iterations = iterations\n",
        "\n",
        "  def initial_weights(self):\n",
        "     # weight initialization\n",
        "      self.W = np.zeros( self.n )\n",
        "      self.b = 0\n",
        "      \n",
        "\n",
        "  def fit( self, X, Y ) :\n",
        "      # print(X)\n",
        "      # no_of_training_examples, no_of_features\n",
        "      self.m, self.n = X.shape\n",
        "      self.X = X\n",
        "      self.Y = Y\n",
        "      print(self.m,self.n, self.X.shape, self.Y.shape)\n",
        "      self.initial_weights()\n",
        "\n",
        "      # gradient descent learning   \n",
        "      for i in range( self.iterations ) : \n",
        "          if i%100==0:  \n",
        "              print(\"Iteration \",i, \"W:\",self.W,\", b:\",self.b) \n",
        "          self.update_weights()\n",
        "            \n",
        "      return self\n",
        "\n",
        "\n",
        "  def predict(self,x) :\n",
        "    return np.dot(x,self.W)+self.b\n",
        "       \n",
        "\n",
        "  def update_weights( self ) :\n",
        "             \n",
        "        error = 0\n",
        "        y_pred = self.predict(self.X)\n",
        "        # print(y_pred, self.Y)\n",
        "        error = y_pred - self.Y\n",
        "        \n",
        "        self.grad_w = np.dot(self.X.T,error) / self.m\n",
        "        self.grad_b = np.dot(np.ones(self.Y.shape).T,error) / self.m\n",
        "        \n",
        "        # print(self.error)\n",
        "        dW = -1*self.learning_rate*self.grad_w\n",
        "       \n",
        "        db = -1*self.learning_rate*self.grad_b\n",
        "          \n",
        "        # update weights\n",
        "      \n",
        "        self.W = self.W + dW\n",
        "        self.b = self.b + db\n",
        "        \n",
        "        return self"
      ],
      "execution_count": 130,
      "outputs": []
    },
    {
      "cell_type": "code",
      "metadata": {
        "id": "1O-mVa2aPc6A",
        "outputId": "00a009f4-f060-4cc0-eea6-55652163b20e",
        "colab": {
          "base_uri": "https://localhost:8080/"
        }
      },
      "source": [
        "lr2 = LinearRegression2(iterations=400, learning_rate=0.0001)\n",
        "lr2.fit(data_train[['x']], data_train['y'])\n",
        "\n",
        "y_pred2 = lr2.predict(data_test[['x']])\n",
        "y_actual = data_test['y']\n",
        "\n",
        "mae2 = mean_absolute_error(y_actual, y_pred2)\n",
        "rmse2 = mean_squared_error(y_actual, y_pred2)\n",
        "print(lr2.W)\n",
        "print(mae2)\n",
        "print(rmse2)\n",
        "print(pd.DataFrame(y_pred2).describe())"
      ],
      "execution_count": 133,
      "outputs": [
        {
          "output_type": "stream",
          "text": [
            "699 1 (699, 1) (699,)\n",
            "Iteration  0 W: [0.] , b: 0\n",
            "Iteration  100 W: [0.99882975] , b: 0.014658108311688395\n",
            "Iteration  200 W: [0.99883433] , b: 0.01435282753990587\n",
            "Iteration  300 W: [0.99883889] , b: 0.014048311151479434\n",
            "[0.99884344]\n",
            "2.4185096015603462\n",
            "9.456950432019797\n",
            "                0\n",
            "count  300.000000\n",
            "mean    50.891500\n",
            "std     28.471319\n",
            "min      0.013745\n",
            "25%     26.982517\n",
            "50%     52.952447\n",
            "75%     72.929316\n",
            "max     99.898088\n"
          ],
          "name": "stdout"
        }
      ]
    },
    {
      "cell_type": "code",
      "metadata": {
        "id": "tryWRMwhPf2S"
      },
      "source": [
        "class LinearRegression3() :\n",
        "      \n",
        "    def __init__( self, learning_rate=0.0001, iterations=100 ) :\n",
        "          \n",
        "        self.learning_rate = learning_rate\n",
        "          \n",
        "        self.iterations = iterations\n",
        "          \n",
        "    # Function for model training\n",
        "              \n",
        "    def fit( self, X, Y ) :\n",
        "          \n",
        "        # no_of_training_examples, no_of_features\n",
        "          \n",
        "        self.m, self.n = X.shape\n",
        "          \n",
        "        # weight initialization\n",
        "          \n",
        "        self.W = np.zeros( self.n )\n",
        "          \n",
        "        self.b = 0\n",
        "          \n",
        "        self.X = X\n",
        "          \n",
        "        self.Y = Y\n",
        "          \n",
        "          \n",
        "        # gradient descent learning\n",
        "                  \n",
        "        for i in range( self.iterations ) :\n",
        "              \n",
        "            self.update_weights()\n",
        "              \n",
        "        return self\n",
        "      \n",
        "    # Helper function to update weights in gradient descent\n",
        "      \n",
        "    def update_weights( self ) :\n",
        "             \n",
        "        Y_pred = self.predict( self.X )\n",
        "          \n",
        "        # calculate gradients  \n",
        "      \n",
        "        dW = - ( 2 * ( self.X.T ).dot( self.Y - Y_pred )  ) / self.m\n",
        "       \n",
        "        db = - 2 * np.sum( self.Y - Y_pred ) / self.m \n",
        "          \n",
        "        # update weights\n",
        "      \n",
        "        self.W = self.W - self.learning_rate * dW\n",
        "      \n",
        "        self.b = self.b - self.learning_rate * db\n",
        "          \n",
        "        return self\n",
        "      \n",
        "    # Hypothetical function  h( x ) \n",
        "      \n",
        "    def predict( self, X ) :\n",
        "      \n",
        "        return X.dot( self.W ) + self.b\n",
        "     "
      ],
      "execution_count": 134,
      "outputs": []
    },
    {
      "cell_type": "code",
      "metadata": {
        "id": "KZ70kk8gTkhl",
        "outputId": "5b4f99bb-b289-448f-e0fc-fdb01d7895fc",
        "colab": {
          "base_uri": "https://localhost:8080/"
        }
      },
      "source": [
        "from sklearn.metrics import mean_squared_error, mean_absolute_error\n",
        "\n",
        "lr3 = LinearRegression3()\n",
        "lr3.fit(data_train[['x']], data_train['y'])\n",
        "\n",
        "y_pred3 = lr3.predict(data_test[['x']])\n",
        "y_actual = data_test['y']\n",
        "\n",
        "mae3 = mean_absolute_error(y_actual, y_pred3)\n",
        "rmse3 = mean_squared_error(y_actual, y_pred3)\n",
        "print(lr3.W)\n",
        "print(mae3)\n",
        "print(rmse3)\n",
        "print(y_pred3.describe())"
      ],
      "execution_count": 135,
      "outputs": [
        {
          "output_type": "stream",
          "text": [
            "x    0.998834\n",
            "dtype: float64\n",
            "2.418523362999354\n",
            "9.457088807807896\n",
            "count    300.000000\n",
            "mean      50.891644\n",
            "std       28.471059\n",
            "min        0.014353\n",
            "25%       26.982880\n",
            "50%       52.952572\n",
            "75%       72.929259\n",
            "max       99.897785\n",
            "dtype: float64\n"
          ],
          "name": "stdout"
        }
      ]
    },
    {
      "cell_type": "code",
      "metadata": {
        "id": "MVpMDWYaTyu_"
      },
      "source": [
        ""
      ],
      "execution_count": null,
      "outputs": []
    }
  ]
}