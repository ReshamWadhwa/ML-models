{
  "nbformat": 4,
  "nbformat_minor": 0,
  "metadata": {
    "colab": {
      "name": "Untitled0.ipynb",
      "provenance": [],
      "authorship_tag": "ABX9TyMoIUDlTB0Fy9hdwN/sDJkT",
      "include_colab_link": true
    },
    "kernelspec": {
      "name": "python3",
      "display_name": "Python 3"
    },
    "language_info": {
      "name": "python"
    }
  },
  "cells": [
    {
      "cell_type": "markdown",
      "metadata": {
        "id": "view-in-github",
        "colab_type": "text"
      },
      "source": [
        "<a href=\"https://colab.research.google.com/github/ReshamWadhwa/ML-models/blob/logit/src/models/logistic_regression/code.ipynb\" target=\"_parent\"><img src=\"https://colab.research.google.com/assets/colab-badge.svg\" alt=\"Open In Colab\"/></a>"
      ]
    },
    {
      "cell_type": "code",
      "metadata": {
        "id": "F46iBY6dPOzv"
      },
      "source": [
        "import pandas as pd\n",
        "from sklearn.linear_model import LogisticRegression\n",
        "from sklearn.model_selection import train_test_split\n",
        "import numpy as np"
      ],
      "execution_count": 77,
      "outputs": []
    },
    {
      "cell_type": "code",
      "metadata": {
        "colab": {
          "base_uri": "https://localhost:8080/"
        },
        "id": "fX1_zEpoQBKs",
        "outputId": "9e076bba-3f05-40c3-e4bb-e27368e9f81e"
      },
      "source": [
        "data = pd.read_csv(\"suv_data.csv\")\n",
        "data.shape"
      ],
      "execution_count": 8,
      "outputs": [
        {
          "output_type": "execute_result",
          "data": {
            "text/plain": [
              "(400, 5)"
            ]
          },
          "metadata": {
            "tags": []
          },
          "execution_count": 8
        }
      ]
    },
    {
      "cell_type": "code",
      "metadata": {
        "colab": {
          "base_uri": "https://localhost:8080/",
          "height": 204
        },
        "id": "KcewxFVHQEnP",
        "outputId": "657d5f1a-130f-4d76-fdee-395c7bdcdaf5"
      },
      "source": [
        "data.head()"
      ],
      "execution_count": 4,
      "outputs": [
        {
          "output_type": "execute_result",
          "data": {
            "text/html": [
              "<div>\n",
              "<style scoped>\n",
              "    .dataframe tbody tr th:only-of-type {\n",
              "        vertical-align: middle;\n",
              "    }\n",
              "\n",
              "    .dataframe tbody tr th {\n",
              "        vertical-align: top;\n",
              "    }\n",
              "\n",
              "    .dataframe thead th {\n",
              "        text-align: right;\n",
              "    }\n",
              "</style>\n",
              "<table border=\"1\" class=\"dataframe\">\n",
              "  <thead>\n",
              "    <tr style=\"text-align: right;\">\n",
              "      <th></th>\n",
              "      <th>User ID</th>\n",
              "      <th>Gender</th>\n",
              "      <th>Age</th>\n",
              "      <th>EstimatedSalary</th>\n",
              "      <th>Purchased</th>\n",
              "    </tr>\n",
              "  </thead>\n",
              "  <tbody>\n",
              "    <tr>\n",
              "      <th>0</th>\n",
              "      <td>15624510</td>\n",
              "      <td>Male</td>\n",
              "      <td>19</td>\n",
              "      <td>19000</td>\n",
              "      <td>0</td>\n",
              "    </tr>\n",
              "    <tr>\n",
              "      <th>1</th>\n",
              "      <td>15810944</td>\n",
              "      <td>Male</td>\n",
              "      <td>35</td>\n",
              "      <td>20000</td>\n",
              "      <td>0</td>\n",
              "    </tr>\n",
              "    <tr>\n",
              "      <th>2</th>\n",
              "      <td>15668575</td>\n",
              "      <td>Female</td>\n",
              "      <td>26</td>\n",
              "      <td>43000</td>\n",
              "      <td>0</td>\n",
              "    </tr>\n",
              "    <tr>\n",
              "      <th>3</th>\n",
              "      <td>15603246</td>\n",
              "      <td>Female</td>\n",
              "      <td>27</td>\n",
              "      <td>57000</td>\n",
              "      <td>0</td>\n",
              "    </tr>\n",
              "    <tr>\n",
              "      <th>4</th>\n",
              "      <td>15804002</td>\n",
              "      <td>Male</td>\n",
              "      <td>19</td>\n",
              "      <td>76000</td>\n",
              "      <td>0</td>\n",
              "    </tr>\n",
              "  </tbody>\n",
              "</table>\n",
              "</div>"
            ],
            "text/plain": [
              "    User ID  Gender  Age  EstimatedSalary  Purchased\n",
              "0  15624510    Male   19            19000          0\n",
              "1  15810944    Male   35            20000          0\n",
              "2  15668575  Female   26            43000          0\n",
              "3  15603246  Female   27            57000          0\n",
              "4  15804002    Male   19            76000          0"
            ]
          },
          "metadata": {
            "tags": []
          },
          "execution_count": 4
        }
      ]
    },
    {
      "cell_type": "code",
      "metadata": {
        "id": "eZOypBXXRBLA"
      },
      "source": [
        "\n",
        "data = pd.concat([data, pd.get_dummies(data['Gender'], drop_first=True, prefix=\"gender\")], 1)"
      ],
      "execution_count": 14,
      "outputs": []
    },
    {
      "cell_type": "code",
      "metadata": {
        "id": "qSDRovIcRjac",
        "outputId": "2121ba33-0066-4729-8748-ae3dda8da9aa",
        "colab": {
          "base_uri": "https://localhost:8080/",
          "height": 297
        }
      },
      "source": [
        "data.drop('User ID', axis = 1, inplace = True)\n",
        "data.describe()\n"
      ],
      "execution_count": 49,
      "outputs": [
        {
          "output_type": "execute_result",
          "data": {
            "text/html": [
              "<div>\n",
              "<style scoped>\n",
              "    .dataframe tbody tr th:only-of-type {\n",
              "        vertical-align: middle;\n",
              "    }\n",
              "\n",
              "    .dataframe tbody tr th {\n",
              "        vertical-align: top;\n",
              "    }\n",
              "\n",
              "    .dataframe thead th {\n",
              "        text-align: right;\n",
              "    }\n",
              "</style>\n",
              "<table border=\"1\" class=\"dataframe\">\n",
              "  <thead>\n",
              "    <tr style=\"text-align: right;\">\n",
              "      <th></th>\n",
              "      <th>Age</th>\n",
              "      <th>EstimatedSalary</th>\n",
              "      <th>Purchased</th>\n",
              "      <th>gender_Male</th>\n",
              "    </tr>\n",
              "  </thead>\n",
              "  <tbody>\n",
              "    <tr>\n",
              "      <th>count</th>\n",
              "      <td>400.000000</td>\n",
              "      <td>400.000000</td>\n",
              "      <td>400.000000</td>\n",
              "      <td>400.000000</td>\n",
              "    </tr>\n",
              "    <tr>\n",
              "      <th>mean</th>\n",
              "      <td>37.655000</td>\n",
              "      <td>69742.500000</td>\n",
              "      <td>0.357500</td>\n",
              "      <td>0.490000</td>\n",
              "    </tr>\n",
              "    <tr>\n",
              "      <th>std</th>\n",
              "      <td>10.482877</td>\n",
              "      <td>34096.960282</td>\n",
              "      <td>0.479864</td>\n",
              "      <td>0.500526</td>\n",
              "    </tr>\n",
              "    <tr>\n",
              "      <th>min</th>\n",
              "      <td>18.000000</td>\n",
              "      <td>15000.000000</td>\n",
              "      <td>0.000000</td>\n",
              "      <td>0.000000</td>\n",
              "    </tr>\n",
              "    <tr>\n",
              "      <th>25%</th>\n",
              "      <td>29.750000</td>\n",
              "      <td>43000.000000</td>\n",
              "      <td>0.000000</td>\n",
              "      <td>0.000000</td>\n",
              "    </tr>\n",
              "    <tr>\n",
              "      <th>50%</th>\n",
              "      <td>37.000000</td>\n",
              "      <td>70000.000000</td>\n",
              "      <td>0.000000</td>\n",
              "      <td>0.000000</td>\n",
              "    </tr>\n",
              "    <tr>\n",
              "      <th>75%</th>\n",
              "      <td>46.000000</td>\n",
              "      <td>88000.000000</td>\n",
              "      <td>1.000000</td>\n",
              "      <td>1.000000</td>\n",
              "    </tr>\n",
              "    <tr>\n",
              "      <th>max</th>\n",
              "      <td>60.000000</td>\n",
              "      <td>150000.000000</td>\n",
              "      <td>1.000000</td>\n",
              "      <td>1.000000</td>\n",
              "    </tr>\n",
              "  </tbody>\n",
              "</table>\n",
              "</div>"
            ],
            "text/plain": [
              "              Age  EstimatedSalary   Purchased  gender_Male\n",
              "count  400.000000       400.000000  400.000000   400.000000\n",
              "mean    37.655000     69742.500000    0.357500     0.490000\n",
              "std     10.482877     34096.960282    0.479864     0.500526\n",
              "min     18.000000     15000.000000    0.000000     0.000000\n",
              "25%     29.750000     43000.000000    0.000000     0.000000\n",
              "50%     37.000000     70000.000000    0.000000     0.000000\n",
              "75%     46.000000     88000.000000    1.000000     1.000000\n",
              "max     60.000000    150000.000000    1.000000     1.000000"
            ]
          },
          "metadata": {
            "tags": []
          },
          "execution_count": 49
        }
      ]
    },
    {
      "cell_type": "code",
      "metadata": {
        "id": "KN7ABcTrQFPl"
      },
      "source": [
        "# X = data[['Age','EstimatedSalary','gender_Male']]\n",
        "X = data.iloc[:,[1,2]].values\n",
        "Y = data['Purchased']\n",
        "X_train, X_test, y_train, y_test =  train_test_split(X, Y, test_size = 0.25, random_state = 1)"
      ],
      "execution_count": 62,
      "outputs": []
    },
    {
      "cell_type": "code",
      "metadata": {
        "id": "MRfy4CLPQyzB",
        "outputId": "db0dc788-895e-4e42-8306-580906d683cb",
        "colab": {
          "base_uri": "https://localhost:8080/"
        }
      },
      "source": [
        "X_train"
      ],
      "execution_count": 63,
      "outputs": [
        {
          "output_type": "execute_result",
          "data": {
            "text/plain": [
              "array([[    20,  49000],\n",
              "       [    46,  88000],\n",
              "       [    31,  34000],\n",
              "       [    47,  30000],\n",
              "       [    35,  50000],\n",
              "       [    39,  96000],\n",
              "       [    33, 113000],\n",
              "       [    49,  86000],\n",
              "       [    45,  79000],\n",
              "       [    44,  39000],\n",
              "       [    41,  59000],\n",
              "       [    42,  53000],\n",
              "       [    35,  73000],\n",
              "       [    41,  72000],\n",
              "       [    27,  96000],\n",
              "       [    30, 116000],\n",
              "       [    41,  52000],\n",
              "       [    41,  52000],\n",
              "       [    20,  82000],\n",
              "       [    46,  41000],\n",
              "       [    27,  31000],\n",
              "       [    35,  71000],\n",
              "       [    49,  28000],\n",
              "       [    35,  91000],\n",
              "       [    37,  75000],\n",
              "       [    32, 117000],\n",
              "       [    36,  75000],\n",
              "       [    20,  86000],\n",
              "       [    38,  50000],\n",
              "       [    49,  36000],\n",
              "       [    40,  65000],\n",
              "       [    37,  77000],\n",
              "       [    60,  46000],\n",
              "       [    48, 138000],\n",
              "       [    40,  71000],\n",
              "       [    36,  63000],\n",
              "       [    26,  81000],\n",
              "       [    33,  31000],\n",
              "       [    41,  51000],\n",
              "       [    46,  74000],\n",
              "       [    18,  82000],\n",
              "       [    37,  33000],\n",
              "       [    35,  53000],\n",
              "       [    28,  59000],\n",
              "       [    37,  71000],\n",
              "       [    18,  44000],\n",
              "       [    38,  61000],\n",
              "       [    35,  65000],\n",
              "       [    31,  66000],\n",
              "       [    47,  25000],\n",
              "       [    42, 104000],\n",
              "       [    19,  19000],\n",
              "       [    21,  72000],\n",
              "       [    28,  32000],\n",
              "       [    52, 150000],\n",
              "       [    53, 104000],\n",
              "       [    25,  80000],\n",
              "       [    26,  72000],\n",
              "       [    26,  15000],\n",
              "       [    40, 142000],\n",
              "       [    35,  38000],\n",
              "       [    57, 122000],\n",
              "       [    41,  87000],\n",
              "       [    24,  89000],\n",
              "       [    37,  52000],\n",
              "       [    35, 108000],\n",
              "       [    32, 100000],\n",
              "       [    35, 147000],\n",
              "       [    19,  26000],\n",
              "       [    46,  82000],\n",
              "       [    47, 105000],\n",
              "       [    45,  45000],\n",
              "       [    38,  51000],\n",
              "       [    37,  93000],\n",
              "       [    29,  43000],\n",
              "       [    41,  30000],\n",
              "       [    40,  60000],\n",
              "       [    27,  88000],\n",
              "       [    27,  90000],\n",
              "       [    39,  71000],\n",
              "       [    23,  28000],\n",
              "       [    51, 146000],\n",
              "       [    23,  63000],\n",
              "       [    37,  80000],\n",
              "       [    40,  47000],\n",
              "       [    48,  29000],\n",
              "       [    35,  59000],\n",
              "       [    26,  30000],\n",
              "       [    39, 106000],\n",
              "       [    28,  84000],\n",
              "       [    59,  76000],\n",
              "       [    40,  57000],\n",
              "       [    35,  97000],\n",
              "       [    26,  86000],\n",
              "       [    41,  63000],\n",
              "       [    29,  47000],\n",
              "       [    26,  17000],\n",
              "       [    58,  23000],\n",
              "       [    30,  62000],\n",
              "       [    25,  33000],\n",
              "       [    59,  29000],\n",
              "       [    28,  37000],\n",
              "       [    39,  77000],\n",
              "       [    47, 107000],\n",
              "       [    52, 138000],\n",
              "       [    29,  43000],\n",
              "       [    27, 137000],\n",
              "       [    24,  55000],\n",
              "       [    40,  72000],\n",
              "       [    21,  16000],\n",
              "       [    57,  26000],\n",
              "       [    30, 135000],\n",
              "       [    48, 119000],\n",
              "       [    40,  57000],\n",
              "       [    35,  75000],\n",
              "       [    28,  44000],\n",
              "       [    37,  74000],\n",
              "       [    35,  27000],\n",
              "       [    37,  79000],\n",
              "       [    32, 120000],\n",
              "       [    29,  75000],\n",
              "       [    30,  17000],\n",
              "       [    25,  79000],\n",
              "       [    40, 107000],\n",
              "       [    24,  19000],\n",
              "       [    41,  72000],\n",
              "       [    38,  61000],\n",
              "       [    36, 144000],\n",
              "       [    42,  64000],\n",
              "       [    48,  33000],\n",
              "       [    48,  30000],\n",
              "       [    23,  20000],\n",
              "       [    55, 130000],\n",
              "       [    29, 148000],\n",
              "       [    42,  65000],\n",
              "       [    27,  54000],\n",
              "       [    37,  55000],\n",
              "       [    25,  22000],\n",
              "       [    59, 143000],\n",
              "       [    42,  54000],\n",
              "       [    27,  17000],\n",
              "       [    47,  49000],\n",
              "       [    28,  59000],\n",
              "       [    33,  69000],\n",
              "       [    31,  68000],\n",
              "       [    35,  23000],\n",
              "       [    35,  22000],\n",
              "       [    57,  33000],\n",
              "       [    30, 107000],\n",
              "       [    46,  23000],\n",
              "       [    41,  60000],\n",
              "       [    33,  41000],\n",
              "       [    33,  60000],\n",
              "       [    47,  47000],\n",
              "       [    28,  55000],\n",
              "       [    45,  32000],\n",
              "       [    35,  75000],\n",
              "       [    59,  42000],\n",
              "       [    47,  50000],\n",
              "       [    47,  51000],\n",
              "       [    35,  79000],\n",
              "       [    39,  42000],\n",
              "       [    40,  78000],\n",
              "       [    23,  48000],\n",
              "       [    39,  75000],\n",
              "       [    35,  57000],\n",
              "       [    55,  39000],\n",
              "       [    31,  71000],\n",
              "       [    28, 123000],\n",
              "       [    42,  80000],\n",
              "       [    40,  59000],\n",
              "       [    48,  74000],\n",
              "       [    21,  88000],\n",
              "       [    53,  72000],\n",
              "       [    27,  58000],\n",
              "       [    35,  47000],\n",
              "       [    28,  89000],\n",
              "       [    26,  80000],\n",
              "       [    32, 117000],\n",
              "       [    42,  75000],\n",
              "       [    33, 149000],\n",
              "       [    41,  80000],\n",
              "       [    31,  58000],\n",
              "       [    39, 134000],\n",
              "       [    27,  20000],\n",
              "       [    29,  83000],\n",
              "       [    19,  70000],\n",
              "       [    19,  85000],\n",
              "       [    29,  61000],\n",
              "       [    39, 134000],\n",
              "       [    31,  76000],\n",
              "       [    41,  72000],\n",
              "       [    26,  80000],\n",
              "       [    40,  61000],\n",
              "       [    35,  25000],\n",
              "       [    48,  96000],\n",
              "       [    42, 149000],\n",
              "       [    28,  79000],\n",
              "       [    51, 134000],\n",
              "       [    33,  28000],\n",
              "       [    42,  54000],\n",
              "       [    45,  22000],\n",
              "       [    37,  57000],\n",
              "       [    34, 112000],\n",
              "       [    35,  39000],\n",
              "       [    22,  27000],\n",
              "       [    35,  72000],\n",
              "       [    39,  59000],\n",
              "       [    20,  74000],\n",
              "       [    46,  32000],\n",
              "       [    26,  43000],\n",
              "       [    29,  83000],\n",
              "       [    55, 125000],\n",
              "       [    37, 146000],\n",
              "       [    45, 131000],\n",
              "       [    33,  43000],\n",
              "       [    41,  45000],\n",
              "       [    42,  79000],\n",
              "       [    37, 137000],\n",
              "       [    24,  84000],\n",
              "       [    32,  18000],\n",
              "       [    56, 104000],\n",
              "       [    49,  39000],\n",
              "       [    28,  85000],\n",
              "       [    53, 143000],\n",
              "       [    30,  89000],\n",
              "       [    57,  60000],\n",
              "       [    40,  75000],\n",
              "       [    41,  79000],\n",
              "       [    20,  82000],\n",
              "       [    22,  55000],\n",
              "       [    35,  88000],\n",
              "       [    54,  70000],\n",
              "       [    31,  15000],\n",
              "       [    50,  36000],\n",
              "       [    42,  65000],\n",
              "       [    34,  43000],\n",
              "       [    42, 108000],\n",
              "       [    54,  26000],\n",
              "       [    19,  21000],\n",
              "       [    36,  50000],\n",
              "       [    37,  70000],\n",
              "       [    36, 126000],\n",
              "       [    47,  20000],\n",
              "       [    30,  79000],\n",
              "       [    59,  83000],\n",
              "       [    29,  80000],\n",
              "       [    43, 112000],\n",
              "       [    38,  80000],\n",
              "       [    58, 144000],\n",
              "       [    36, 125000],\n",
              "       [    49,  28000],\n",
              "       [    18,  52000],\n",
              "       [    30,  15000],\n",
              "       [    59,  88000],\n",
              "       [    27,  57000],\n",
              "       [    38,  71000],\n",
              "       [    31,  89000],\n",
              "       [    47,  34000],\n",
              "       [    31,  74000],\n",
              "       [    37,  72000],\n",
              "       [    40,  57000],\n",
              "       [    59, 130000],\n",
              "       [    49,  65000],\n",
              "       [    48,  90000],\n",
              "       [    46,  22000],\n",
              "       [    54, 104000],\n",
              "       [    35,  20000],\n",
              "       [    49, 141000],\n",
              "       [    48,  41000],\n",
              "       [    35,  55000],\n",
              "       [    36,  60000],\n",
              "       [    32, 150000],\n",
              "       [    18,  68000],\n",
              "       [    24,  55000],\n",
              "       [    42,  90000],\n",
              "       [    38,  59000],\n",
              "       [    60, 108000],\n",
              "       [    22,  63000],\n",
              "       [    24,  32000],\n",
              "       [    46,  59000],\n",
              "       [    48, 134000],\n",
              "       [    41,  72000],\n",
              "       [    50,  44000],\n",
              "       [    38,  71000],\n",
              "       [    24,  23000],\n",
              "       [    35,  61000],\n",
              "       [    37,  80000],\n",
              "       [    24,  27000],\n",
              "       [    26,  84000],\n",
              "       [    34,  25000],\n",
              "       [    36,  54000],\n",
              "       [    21,  68000],\n",
              "       [    41,  71000],\n",
              "       [    60,  42000],\n",
              "       [    52,  90000],\n",
              "       [    20,  23000],\n",
              "       [    51,  23000],\n",
              "       [    46,  79000],\n",
              "       [    30,  49000]])"
            ]
          },
          "metadata": {
            "tags": []
          },
          "execution_count": 63
        }
      ]
    },
    {
      "cell_type": "code",
      "metadata": {
        "id": "927rMMzdQzed",
        "outputId": "ce92b931-c1fb-4bd9-e180-87c28fafde8e",
        "colab": {
          "base_uri": "https://localhost:8080/"
        }
      },
      "source": [
        "X_test"
      ],
      "execution_count": 64,
      "outputs": [
        {
          "output_type": "execute_result",
          "data": {
            "text/plain": [
              "array([[    36,  33000],\n",
              "       [    39,  61000],\n",
              "       [    36, 118000],\n",
              "       [    39, 122000],\n",
              "       [    26, 118000],\n",
              "       [    38,  65000],\n",
              "       [    20,  36000],\n",
              "       [    49,  89000],\n",
              "       [    31,  18000],\n",
              "       [    48, 141000],\n",
              "       [    34,  72000],\n",
              "       [    39,  73000],\n",
              "       [    35,  72000],\n",
              "       [    48, 131000],\n",
              "       [    53,  82000],\n",
              "       [    56, 133000],\n",
              "       [    60,  83000],\n",
              "       [    27,  58000],\n",
              "       [    28,  87000],\n",
              "       [    60, 102000],\n",
              "       [    40,  75000],\n",
              "       [    50,  88000],\n",
              "       [    44, 139000],\n",
              "       [    47,  43000],\n",
              "       [    45,  26000],\n",
              "       [    26,  15000],\n",
              "       [    58,  47000],\n",
              "       [    49,  74000],\n",
              "       [    53,  34000],\n",
              "       [    52, 114000],\n",
              "       [    39,  42000],\n",
              "       [    19,  76000],\n",
              "       [    18,  86000],\n",
              "       [    57,  74000],\n",
              "       [    27,  84000],\n",
              "       [    30,  80000],\n",
              "       [    22,  18000],\n",
              "       [    32,  86000],\n",
              "       [    50,  20000],\n",
              "       [    19,  25000],\n",
              "       [    47, 144000],\n",
              "       [    58, 101000],\n",
              "       [    34, 115000],\n",
              "       [    23,  66000],\n",
              "       [    56,  60000],\n",
              "       [    31, 118000],\n",
              "       [    48,  35000],\n",
              "       [    47, 113000],\n",
              "       [    39,  79000],\n",
              "       [    52,  38000],\n",
              "       [    24,  58000],\n",
              "       [    37,  53000],\n",
              "       [    42,  80000],\n",
              "       [    46,  28000],\n",
              "       [    42,  73000],\n",
              "       [    37,  62000],\n",
              "       [    60,  42000],\n",
              "       [    36,  52000],\n",
              "       [    58,  95000],\n",
              "       [    43, 129000],\n",
              "       [    27,  89000],\n",
              "       [    23,  82000],\n",
              "       [    38, 112000],\n",
              "       [    35,  50000],\n",
              "       [    36,  99000],\n",
              "       [    37, 144000],\n",
              "       [    26,  35000],\n",
              "       [    42,  70000],\n",
              "       [    43, 133000],\n",
              "       [    38,  50000],\n",
              "       [    46,  96000],\n",
              "       [    35,  44000],\n",
              "       [    38, 113000],\n",
              "       [    39,  71000],\n",
              "       [    26,  52000],\n",
              "       [    54, 108000],\n",
              "       [    33,  51000],\n",
              "       [    26,  16000],\n",
              "       [    30,  87000],\n",
              "       [    35,  60000],\n",
              "       [    29,  28000],\n",
              "       [    45,  22000],\n",
              "       [    46, 117000],\n",
              "       [    32,  18000],\n",
              "       [    22,  81000],\n",
              "       [    25,  87000],\n",
              "       [    48,  33000],\n",
              "       [    35,  58000],\n",
              "       [    47,  23000],\n",
              "       [    26,  32000],\n",
              "       [    32, 135000],\n",
              "       [    60,  34000],\n",
              "       [    52,  21000],\n",
              "       [    38,  55000],\n",
              "       [    25,  90000],\n",
              "       [    58,  38000],\n",
              "       [    49,  88000],\n",
              "       [    37,  78000],\n",
              "       [    35,  77000],\n",
              "       [    34,  43000]])"
            ]
          },
          "metadata": {
            "tags": []
          },
          "execution_count": 64
        }
      ]
    },
    {
      "cell_type": "code",
      "metadata": {
        "id": "IHQsdkieQ3MO"
      },
      "source": [
        ""
      ],
      "execution_count": 64,
      "outputs": []
    },
    {
      "cell_type": "code",
      "metadata": {
        "id": "Ngio3J4RRr27"
      },
      "source": [
        "lr_library = LogisticRegression()"
      ],
      "execution_count": 65,
      "outputs": []
    },
    {
      "cell_type": "code",
      "metadata": {
        "id": "B3x5oXSmR0fl",
        "outputId": "2fe969bf-f4a5-4929-ec0c-4287a076cf7b",
        "colab": {
          "base_uri": "https://localhost:8080/"
        }
      },
      "source": [
        "lr_library.fit(X=X_train, y=y_train)"
      ],
      "execution_count": 66,
      "outputs": [
        {
          "output_type": "execute_result",
          "data": {
            "text/plain": [
              "LogisticRegression(C=1.0, class_weight=None, dual=False, fit_intercept=True,\n",
              "                   intercept_scaling=1, l1_ratio=None, max_iter=100,\n",
              "                   multi_class='auto', n_jobs=None, penalty='l2',\n",
              "                   random_state=None, solver='lbfgs', tol=0.0001, verbose=0,\n",
              "                   warm_start=False)"
            ]
          },
          "metadata": {
            "tags": []
          },
          "execution_count": 66
        }
      ]
    },
    {
      "cell_type": "code",
      "metadata": {
        "id": "H8mBf2bmR7AF"
      },
      "source": [
        "y_pred = lr_library.predict(X_test)"
      ],
      "execution_count": 67,
      "outputs": []
    },
    {
      "cell_type": "code",
      "metadata": {
        "id": "rWgM-06iSCnf",
        "outputId": "d851631a-c865-4a93-a5a1-26736e75c86e",
        "colab": {
          "base_uri": "https://localhost:8080/"
        }
      },
      "source": [
        "y_pred"
      ],
      "execution_count": 68,
      "outputs": [
        {
          "output_type": "execute_result",
          "data": {
            "text/plain": [
              "array([0, 0, 1, 1, 0, 0, 0, 1, 0, 1, 0, 0, 0, 1, 1, 1, 1, 0, 0, 1, 0, 1,\n",
              "       1, 0, 0, 0, 1, 1, 1, 1, 0, 0, 0, 1, 0, 0, 0, 0, 0, 0, 1, 1, 0, 0,\n",
              "       1, 0, 0, 1, 0, 1, 0, 0, 1, 0, 1, 0, 1, 0, 1, 1, 0, 0, 1, 0, 0, 1,\n",
              "       0, 0, 1, 0, 1, 0, 1, 0, 0, 1, 0, 0, 0, 0, 0, 0, 1, 0, 0, 0, 0, 0,\n",
              "       0, 0, 1, 1, 1, 0, 0, 1, 1, 0, 0, 0])"
            ]
          },
          "metadata": {
            "tags": []
          },
          "execution_count": 68
        }
      ]
    },
    {
      "cell_type": "code",
      "metadata": {
        "id": "0q79QWqpSEjl",
        "outputId": "e53f8b37-2c1c-4191-be2d-250e944d8d3b",
        "colab": {
          "base_uri": "https://localhost:8080/"
        }
      },
      "source": [
        "from sklearn.metrics import classification_report\n",
        "print(classification_report(y_test, y_pred))"
      ],
      "execution_count": 69,
      "outputs": [
        {
          "output_type": "stream",
          "text": [
            "              precision    recall  f1-score   support\n",
            "\n",
            "           0       0.84      0.90      0.87        58\n",
            "           1       0.84      0.76      0.80        42\n",
            "\n",
            "    accuracy                           0.84       100\n",
            "   macro avg       0.84      0.83      0.83       100\n",
            "weighted avg       0.84      0.84      0.84       100\n",
            "\n"
          ],
          "name": "stdout"
        }
      ]
    },
    {
      "cell_type": "code",
      "metadata": {
        "id": "1lKkxqYQSMaH",
        "outputId": "410e80ee-528a-4fa9-bb25-0c2bff0444c1",
        "colab": {
          "base_uri": "https://localhost:8080/"
        }
      },
      "source": [
        "from sklearn.metrics import confusion_matrix\n",
        "confusion_matrix(y_test, y_pred)"
      ],
      "execution_count": 70,
      "outputs": [
        {
          "output_type": "execute_result",
          "data": {
            "text/plain": [
              "array([[52,  6],\n",
              "       [10, 32]])"
            ]
          },
          "metadata": {
            "tags": []
          },
          "execution_count": 70
        }
      ]
    },
    {
      "cell_type": "code",
      "metadata": {
        "id": "7chH8QqNT1lR"
      },
      "source": [
        "#### LOGISTIC REGRESSION WITHOUT LIBRARY"
      ],
      "execution_count": 71,
      "outputs": []
    },
    {
      "cell_type": "code",
      "metadata": {
        "id": "13bIlXmdUVAP"
      },
      "source": [
        "import math\n",
        "\n",
        "class LogisticRegression_wo_lib:\n",
        "  learning_rate= None\n",
        "  X = None\n",
        "  Y = None\n",
        "  m = None # training smaples\n",
        "  n = None # Number of training features\n",
        "  iterations = None\n",
        "  W = None\n",
        "  b = None\n",
        "  loss = None\n",
        "  loss_bias = None\n",
        "  lce = None\n",
        "\n",
        "  def __init__(self, learning_rate=0.01, iterations=1000):\n",
        "    self.learning_rate=learning_rate\n",
        "    self.iterations = iterations\n",
        "\n",
        "  def initialise_parameters(self):\n",
        "      self.W = np.zeros(self.n)\n",
        "      self.b = 0\n",
        "\n",
        "  def sigmoid(self,x):\n",
        "    x = -1*x\n",
        "    e = np.exp(x)\n",
        "    return 1/(1+e)\n",
        "    \n",
        "  \n",
        "  def fit(self,X,Y):\n",
        "      self.X = X\n",
        "      self.Y = Y\n",
        "      self.m, self.n = X.shape if len(X.shape)>1 else X.shape[0],1\n",
        "\n",
        "      self.initialise_parameters()\n",
        "\n",
        "      for i in range( self.iterations ) :\n",
        "          lin_sum = np.dot(X.T, self.W)+self.b\n",
        "          h = self.sigmoid(lin_sum)\n",
        "          gradient = np.dot(X.T, (h - Y)) / Y.size\n",
        "\n",
        "          self.W -= self.learning_rate * gradient\n",
        "            \n",
        "          if i%50==0:   \n",
        "            print(\"Iteration \",i, \"W:\",self.W,\", b:\",self.b,\" Loss : \", self.loss, \"Loss bias : \", self.loss_bias, \"log loss:\", self.lce) \n",
        "          self.update_weights()\n",
        "      return self\n",
        "  "
      ],
      "execution_count": 74,
      "outputs": []
    },
    {
      "cell_type": "code",
      "metadata": {
        "id": "s3CPZOkvUl3s"
      },
      "source": [
        "lr_wo_library = LogisticRegression_wo_lib()"
      ],
      "execution_count": 75,
      "outputs": []
    },
    {
      "cell_type": "code",
      "metadata": {
        "id": "pZlVx5zSU7fY",
        "outputId": "f03ce66c-2a87-4de5-c5c2-268f2e3bf4b5",
        "colab": {
          "base_uri": "https://localhost:8080/"
        }
      },
      "source": [
        "X_train.shape"
      ],
      "execution_count": 79,
      "outputs": [
        {
          "output_type": "execute_result",
          "data": {
            "text/plain": [
              "(300, 2)"
            ]
          },
          "metadata": {
            "tags": []
          },
          "execution_count": 79
        }
      ]
    },
    {
      "cell_type": "code",
      "metadata": {
        "id": "Ab3ZiDbhUssq",
        "outputId": "6542b6e9-f2ee-4fdd-ce4d-f959301536be",
        "colab": {
          "base_uri": "https://localhost:8080/",
          "height": 341
        }
      },
      "source": [
        "lr_wo_library.fit(X_train,y_train)"
      ],
      "execution_count": 78,
      "outputs": [
        {
          "output_type": "error",
          "ename": "ValueError",
          "evalue": "ignored",
          "traceback": [
            "\u001b[0;31m---------------------------------------------------------------------------\u001b[0m",
            "\u001b[0;31mValueError\u001b[0m                                Traceback (most recent call last)",
            "\u001b[0;32m<ipython-input-78-9b21470898cf>\u001b[0m in \u001b[0;36m<module>\u001b[0;34m()\u001b[0m\n\u001b[0;32m----> 1\u001b[0;31m \u001b[0mlr_wo_library\u001b[0m\u001b[0;34m.\u001b[0m\u001b[0mfit\u001b[0m\u001b[0;34m(\u001b[0m\u001b[0mX_train\u001b[0m\u001b[0;34m,\u001b[0m\u001b[0my_train\u001b[0m\u001b[0;34m)\u001b[0m\u001b[0;34m\u001b[0m\u001b[0;34m\u001b[0m\u001b[0m\n\u001b[0m",
            "\u001b[0;32m<ipython-input-74-39b9db540e69>\u001b[0m in \u001b[0;36mfit\u001b[0;34m(self, X, Y)\u001b[0m\n\u001b[1;32m     38\u001b[0m           \u001b[0mlin_sum\u001b[0m \u001b[0;34m=\u001b[0m \u001b[0mnp\u001b[0m\u001b[0;34m.\u001b[0m\u001b[0mdot\u001b[0m\u001b[0;34m(\u001b[0m\u001b[0mX\u001b[0m\u001b[0;34m.\u001b[0m\u001b[0mT\u001b[0m\u001b[0;34m,\u001b[0m \u001b[0mself\u001b[0m\u001b[0;34m.\u001b[0m\u001b[0mW\u001b[0m\u001b[0;34m)\u001b[0m\u001b[0;34m+\u001b[0m\u001b[0mself\u001b[0m\u001b[0;34m.\u001b[0m\u001b[0mb\u001b[0m\u001b[0;34m\u001b[0m\u001b[0;34m\u001b[0m\u001b[0m\n\u001b[1;32m     39\u001b[0m           \u001b[0mh\u001b[0m \u001b[0;34m=\u001b[0m \u001b[0mself\u001b[0m\u001b[0;34m.\u001b[0m\u001b[0msigmoid\u001b[0m\u001b[0;34m(\u001b[0m\u001b[0mlin_sum\u001b[0m\u001b[0;34m)\u001b[0m\u001b[0;34m\u001b[0m\u001b[0;34m\u001b[0m\u001b[0m\n\u001b[0;32m---> 40\u001b[0;31m           \u001b[0mgradient\u001b[0m \u001b[0;34m=\u001b[0m \u001b[0mnp\u001b[0m\u001b[0;34m.\u001b[0m\u001b[0mdot\u001b[0m\u001b[0;34m(\u001b[0m\u001b[0mX\u001b[0m\u001b[0;34m.\u001b[0m\u001b[0mT\u001b[0m\u001b[0;34m,\u001b[0m \u001b[0;34m(\u001b[0m\u001b[0mh\u001b[0m \u001b[0;34m-\u001b[0m \u001b[0mY\u001b[0m\u001b[0;34m)\u001b[0m\u001b[0;34m)\u001b[0m \u001b[0;34m/\u001b[0m \u001b[0mY\u001b[0m\u001b[0;34m.\u001b[0m\u001b[0msize\u001b[0m\u001b[0;34m\u001b[0m\u001b[0;34m\u001b[0m\u001b[0m\n\u001b[0m\u001b[1;32m     41\u001b[0m \u001b[0;34m\u001b[0m\u001b[0m\n\u001b[1;32m     42\u001b[0m           \u001b[0mself\u001b[0m\u001b[0;34m.\u001b[0m\u001b[0mW\u001b[0m \u001b[0;34m-=\u001b[0m \u001b[0mself\u001b[0m\u001b[0;34m.\u001b[0m\u001b[0mlearning_rate\u001b[0m \u001b[0;34m*\u001b[0m \u001b[0mgradient\u001b[0m\u001b[0;34m\u001b[0m\u001b[0;34m\u001b[0m\u001b[0m\n",
            "\u001b[0;32m/usr/local/lib/python3.7/dist-packages/pandas/core/series.py\u001b[0m in \u001b[0;36m__array_ufunc__\u001b[0;34m(self, ufunc, method, *inputs, **kwargs)\u001b[0m\n\u001b[1;32m    681\u001b[0m         \u001b[0;31m# for binary ops, use our custom dunder methods\u001b[0m\u001b[0;34m\u001b[0m\u001b[0;34m\u001b[0m\u001b[0;34m\u001b[0m\u001b[0m\n\u001b[1;32m    682\u001b[0m         result = ops.maybe_dispatch_ufunc_to_dunder_op(\n\u001b[0;32m--> 683\u001b[0;31m             \u001b[0mself\u001b[0m\u001b[0;34m,\u001b[0m \u001b[0mufunc\u001b[0m\u001b[0;34m,\u001b[0m \u001b[0mmethod\u001b[0m\u001b[0;34m,\u001b[0m \u001b[0;34m*\u001b[0m\u001b[0minputs\u001b[0m\u001b[0;34m,\u001b[0m \u001b[0;34m**\u001b[0m\u001b[0mkwargs\u001b[0m\u001b[0;34m\u001b[0m\u001b[0;34m\u001b[0m\u001b[0m\n\u001b[0m\u001b[1;32m    684\u001b[0m         )\n\u001b[1;32m    685\u001b[0m         \u001b[0;32mif\u001b[0m \u001b[0mresult\u001b[0m \u001b[0;32mis\u001b[0m \u001b[0;32mnot\u001b[0m \u001b[0mNotImplemented\u001b[0m\u001b[0;34m:\u001b[0m\u001b[0;34m\u001b[0m\u001b[0;34m\u001b[0m\u001b[0m\n",
            "\u001b[0;32mpandas/_libs/ops_dispatch.pyx\u001b[0m in \u001b[0;36mpandas._libs.ops_dispatch.maybe_dispatch_ufunc_to_dunder_op\u001b[0;34m()\u001b[0m\n",
            "\u001b[0;32m/usr/local/lib/python3.7/dist-packages/pandas/core/ops/common.py\u001b[0m in \u001b[0;36mnew_method\u001b[0;34m(self, other)\u001b[0m\n\u001b[1;32m     63\u001b[0m         \u001b[0mother\u001b[0m \u001b[0;34m=\u001b[0m \u001b[0mitem_from_zerodim\u001b[0m\u001b[0;34m(\u001b[0m\u001b[0mother\u001b[0m\u001b[0;34m)\u001b[0m\u001b[0;34m\u001b[0m\u001b[0;34m\u001b[0m\u001b[0m\n\u001b[1;32m     64\u001b[0m \u001b[0;34m\u001b[0m\u001b[0m\n\u001b[0;32m---> 65\u001b[0;31m         \u001b[0;32mreturn\u001b[0m \u001b[0mmethod\u001b[0m\u001b[0;34m(\u001b[0m\u001b[0mself\u001b[0m\u001b[0;34m,\u001b[0m \u001b[0mother\u001b[0m\u001b[0;34m)\u001b[0m\u001b[0;34m\u001b[0m\u001b[0;34m\u001b[0m\u001b[0m\n\u001b[0m\u001b[1;32m     66\u001b[0m \u001b[0;34m\u001b[0m\u001b[0m\n\u001b[1;32m     67\u001b[0m     \u001b[0;32mreturn\u001b[0m \u001b[0mnew_method\u001b[0m\u001b[0;34m\u001b[0m\u001b[0;34m\u001b[0m\u001b[0m\n",
            "\u001b[0;32m/usr/local/lib/python3.7/dist-packages/pandas/core/ops/__init__.py\u001b[0m in \u001b[0;36mwrapper\u001b[0;34m(left, right)\u001b[0m\n\u001b[1;32m    343\u001b[0m         \u001b[0mresult\u001b[0m \u001b[0;34m=\u001b[0m \u001b[0marithmetic_op\u001b[0m\u001b[0;34m(\u001b[0m\u001b[0mlvalues\u001b[0m\u001b[0;34m,\u001b[0m \u001b[0mrvalues\u001b[0m\u001b[0;34m,\u001b[0m \u001b[0mop\u001b[0m\u001b[0;34m)\u001b[0m\u001b[0;34m\u001b[0m\u001b[0;34m\u001b[0m\u001b[0m\n\u001b[1;32m    344\u001b[0m \u001b[0;34m\u001b[0m\u001b[0m\n\u001b[0;32m--> 345\u001b[0;31m         \u001b[0;32mreturn\u001b[0m \u001b[0mleft\u001b[0m\u001b[0;34m.\u001b[0m\u001b[0m_construct_result\u001b[0m\u001b[0;34m(\u001b[0m\u001b[0mresult\u001b[0m\u001b[0;34m,\u001b[0m \u001b[0mname\u001b[0m\u001b[0;34m=\u001b[0m\u001b[0mres_name\u001b[0m\u001b[0;34m)\u001b[0m\u001b[0;34m\u001b[0m\u001b[0;34m\u001b[0m\u001b[0m\n\u001b[0m\u001b[1;32m    346\u001b[0m \u001b[0;34m\u001b[0m\u001b[0m\n\u001b[1;32m    347\u001b[0m     \u001b[0mwrapper\u001b[0m\u001b[0;34m.\u001b[0m\u001b[0m__name__\u001b[0m \u001b[0;34m=\u001b[0m \u001b[0mop_name\u001b[0m\u001b[0;34m\u001b[0m\u001b[0;34m\u001b[0m\u001b[0m\n",
            "\u001b[0;32m/usr/local/lib/python3.7/dist-packages/pandas/core/series.py\u001b[0m in \u001b[0;36m_construct_result\u001b[0;34m(self, result, name)\u001b[0m\n\u001b[1;32m   2768\u001b[0m         \u001b[0;31m# We do not pass dtype to ensure that the Series constructor\u001b[0m\u001b[0;34m\u001b[0m\u001b[0;34m\u001b[0m\u001b[0;34m\u001b[0m\u001b[0m\n\u001b[1;32m   2769\u001b[0m         \u001b[0;31m#  does inference in the case where `result` has object-dtype.\u001b[0m\u001b[0;34m\u001b[0m\u001b[0;34m\u001b[0m\u001b[0;34m\u001b[0m\u001b[0m\n\u001b[0;32m-> 2770\u001b[0;31m         \u001b[0mout\u001b[0m \u001b[0;34m=\u001b[0m \u001b[0mself\u001b[0m\u001b[0;34m.\u001b[0m\u001b[0m_constructor\u001b[0m\u001b[0;34m(\u001b[0m\u001b[0mresult\u001b[0m\u001b[0;34m,\u001b[0m \u001b[0mindex\u001b[0m\u001b[0;34m=\u001b[0m\u001b[0mself\u001b[0m\u001b[0;34m.\u001b[0m\u001b[0mindex\u001b[0m\u001b[0;34m)\u001b[0m\u001b[0;34m\u001b[0m\u001b[0;34m\u001b[0m\u001b[0m\n\u001b[0m\u001b[1;32m   2771\u001b[0m         \u001b[0mout\u001b[0m \u001b[0;34m=\u001b[0m \u001b[0mout\u001b[0m\u001b[0;34m.\u001b[0m\u001b[0m__finalize__\u001b[0m\u001b[0;34m(\u001b[0m\u001b[0mself\u001b[0m\u001b[0;34m)\u001b[0m\u001b[0;34m\u001b[0m\u001b[0;34m\u001b[0m\u001b[0m\n\u001b[1;32m   2772\u001b[0m \u001b[0;34m\u001b[0m\u001b[0m\n",
            "\u001b[0;32m/usr/local/lib/python3.7/dist-packages/pandas/core/series.py\u001b[0m in \u001b[0;36m__init__\u001b[0;34m(self, data, index, dtype, name, copy, fastpath)\u001b[0m\n\u001b[1;32m    312\u001b[0m                     \u001b[0;32mif\u001b[0m \u001b[0mlen\u001b[0m\u001b[0;34m(\u001b[0m\u001b[0mindex\u001b[0m\u001b[0;34m)\u001b[0m \u001b[0;34m!=\u001b[0m \u001b[0mlen\u001b[0m\u001b[0;34m(\u001b[0m\u001b[0mdata\u001b[0m\u001b[0;34m)\u001b[0m\u001b[0;34m:\u001b[0m\u001b[0;34m\u001b[0m\u001b[0;34m\u001b[0m\u001b[0m\n\u001b[1;32m    313\u001b[0m                         raise ValueError(\n\u001b[0;32m--> 314\u001b[0;31m                             \u001b[0;34mf\"Length of passed values is {len(data)}, \"\u001b[0m\u001b[0;34m\u001b[0m\u001b[0;34m\u001b[0m\u001b[0m\n\u001b[0m\u001b[1;32m    315\u001b[0m                             \u001b[0;34mf\"index implies {len(index)}.\"\u001b[0m\u001b[0;34m\u001b[0m\u001b[0;34m\u001b[0m\u001b[0m\n\u001b[1;32m    316\u001b[0m                         )\n",
            "\u001b[0;31mValueError\u001b[0m: Length of passed values is 2, index implies 300."
          ]
        }
      ]
    },
    {
      "cell_type": "code",
      "metadata": {
        "id": "nzvmjxS9Uxhk"
      },
      "source": [
        ""
      ],
      "execution_count": null,
      "outputs": []
    }
  ]
}